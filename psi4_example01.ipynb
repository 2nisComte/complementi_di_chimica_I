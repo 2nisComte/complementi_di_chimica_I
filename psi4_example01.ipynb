{
 "cells": [
  {
   "cell_type": "code",
   "execution_count": null,
   "id": "f39adc45-aec7-4ca1-8402-319514938410",
   "metadata": {},
   "outputs": [],
   "source": [
    "import psi4\n",
    "\n",
    "# Set output file\n",
    "psi4.set_output_file(\"output.dat\")\n",
    "\n",
    "# Geometry definition (example: Ammonia molecule)\n",
    "nh3 = psi4.geometry(\"\"\"\n",
    "0 1\n",
    "N\n",
    "H 1 1.0\n",
    "H 1 1.0 2 107.0\n",
    "H 1 1.0 2 107.0 3 120.0\n",
    "\"\"\")\n",
    "\n",
    "# Perform energy calculation (HF/STO-3G)\n",
    "energy = psi4.energy('scf/sto-3g', molecule=nh3)\n",
    "print(f\"Computed energy: {energy:.6f} Hartree\")"
   ]
  }
 ],
 "metadata": {
  "kernelspec": {
   "display_name": "Python 3 (ipykernel)",
   "language": "python",
   "name": "python3"
  },
  "language_info": {
   "codemirror_mode": {
    "name": "ipython",
    "version": 3
   },
   "file_extension": ".py",
   "mimetype": "text/x-python",
   "name": "python",
   "nbconvert_exporter": "python",
   "pygments_lexer": "ipython3",
   "version": "3.10.12"
  }
 },
 "nbformat": 4,
 "nbformat_minor": 5
}
